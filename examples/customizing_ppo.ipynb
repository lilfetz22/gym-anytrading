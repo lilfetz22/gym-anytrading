{
 "cells": [
  {
   "cell_type": "code",
   "execution_count": null,
   "metadata": {},
   "outputs": [],
   "source": [
    "from tqdm import tqdm\n",
    "import random\n",
    "\n",
    "import numpy as np\n",
    "import pandas as pd\n",
    "import seaborn as sns\n",
    "import matplotlib.pyplot as plt\n",
    "import gymnasium as gym\n",
    "import quantstats as qs\n",
    "# import gym_anytrading\n",
    "\n",
    "import sys\n",
    "sys.path.append(\"C:/Users/WilliamFetzner/Documents/Trading/gym-anytrading/gym_anytrading\")\n",
    "import importlib\n",
    "%load_ext autoreload\n",
    "%autoreload 2\n",
    "from envs import MyForexEnv, Actions\n",
    "# sys.path.append(\"C:/Users/WilliamFetzner/Documents/Trading/gym-anytrading/\")\n",
    "# from datasets import FOREX_EURUSD_RENKO\n",
    "from stable_baselines3 import A2C, PPO\n",
    "from stable_baselines3.common.callbacks import BaseCallback\n",
    "import torch"
   ]
  },
  {
   "cell_type": "code",
   "execution_count": null,
   "metadata": {},
   "outputs": [],
   "source": [
    "import os\n",
    "name = 'FOREX_EURUSD_RENKO'\n",
    "# base_dir = os.path.dirname(os.path.abspath(__file__))\n",
    "path = \"C:/Users/WilliamFetzner/Documents/Trading/gym-anytrading/gym_anytrading/datasets/data/renko_full_data_81.csv\"\n",
    "# path = os.path.join(base_dir, '.csv')\n",
    "FOREX_EURUSD_RENKO = pd.read_csv(path, parse_dates=True, index_col='datetime')"
   ]
  },
  {
   "cell_type": "code",
   "execution_count": null,
   "metadata": {},
   "outputs": [],
   "source": [
    "def print_stats(reward_over_episodes):\n",
    "    \"\"\"  Print Reward  \"\"\"\n",
    "\n",
    "    avg = np.mean(reward_over_episodes)\n",
    "    min = np.min(reward_over_episodes)\n",
    "    max = np.max(reward_over_episodes)\n",
    "\n",
    "    print (f'Min. Reward          : {min:>10.3f}')\n",
    "    print (f'Avg. Reward          : {avg:>10.3f}')\n",
    "    print (f'Max. Reward          : {max:>10.3f}')\n",
    "\n",
    "    return min, avg, max\n",
    "\n",
    "\n",
    "# ProgressBarCallback for model.learn()\n",
    "class ProgressBarCallback(BaseCallback):\n",
    "\n",
    "    def __init__(self, check_freq: int, verbose: int = 1):\n",
    "        super().__init__(verbose)\n",
    "        self.check_freq = check_freq\n",
    "\n",
    "    def _on_training_start(self) -> None:\n",
    "        \"\"\"\n",
    "        This method is called before the first rollout starts.\n",
    "        \"\"\"\n",
    "        self.progress_bar = tqdm(total=self.model._total_timesteps, desc=\"model.learn()\")\n",
    "\n",
    "    def _on_step(self) -> bool:\n",
    "        if self.n_calls % self.check_freq == 0:\n",
    "            self.progress_bar.update(self.check_freq)\n",
    "        return True\n",
    "    \n",
    "    def _on_training_end(self) -> None:\n",
    "        \"\"\"\n",
    "        This event is triggered before exiting the `learn()` method.\n",
    "        \"\"\"\n",
    "        self.progress_bar.close()"
   ]
  },
  {
   "cell_type": "code",
   "execution_count": null,
   "metadata": {},
   "outputs": [],
   "source": [
    "env_train = MyForexEnv(\n",
    "    df=FOREX_EURUSD_RENKO,\n",
    "    window_size=10,\n",
    "    frame_bound=(10, int(len(FOREX_EURUSD_RENKO)*.8)),\n",
    "    trade_fee=0.0001,\n",
    "    unit_side='right',\n",
    "    sma_length=4,\n",
    "    smoothing_sma=4\n",
    ")"
   ]
  },
  {
   "cell_type": "code",
   "execution_count": null,
   "metadata": {},
   "outputs": [],
   "source": [
    "seed_ppo = 42  # random seed\n",
    "obs_ppo, info_ppo = env_train.reset(seed=seed_ppo)\n",
    "torch.manual_seed(seed_ppo)\n",
    "random.seed(seed_ppo)\n",
    "np.random.seed(seed_ppo)\n",
    "\n",
    "vec_env_ppo = None\n",
    "\n",
    "total_learning_timesteps_ppo = 5000 * 1000 # 5000\n",
    "policy_dict_ppo = PPO.policy_aliases\n",
    "policy_ppo = policy_dict_ppo.get('MlpPolicy')\n",
    "if policy_ppo is None:\n",
    "    policy_ppo = policy_dict_ppo.get('MlpLstmPolicy')\n",
    "\n",
    "model_ppo = PPO(policy_ppo, env_train, verbose=0)\n",
    "\n",
    "print(f'model {type(model_ppo)}')\n",
    "print(f'policy {type(model_ppo.policy)}')\n",
    "\n",
    "# custom callback for 'progress_bar'\n",
    "model_ppo.learn(total_timesteps=total_learning_timesteps_ppo, callback=ProgressBarCallback(100))\n",
    "\n",
    "env_train.close()"
   ]
  },
  {
   "cell_type": "code",
   "execution_count": null,
   "metadata": {},
   "outputs": [],
   "source": [
    "env_test = MyForexEnv(\n",
    "    df=FOREX_EURUSD_RENKO,\n",
    "    window_size=10,\n",
    "    frame_bound=(int(len(FOREX_EURUSD_RENKO)*.8), int(len(FOREX_EURUSD_RENKO)*.99)),\n",
    "    trade_fee=0.0001,\n",
    "    unit_side='right',\n",
    "    sma_length=4,\n",
    "    smoothing_sma=4\n",
    ")"
   ]
  },
  {
   "cell_type": "code",
   "execution_count": null,
   "metadata": {},
   "outputs": [],
   "source": [
    "done = False\n",
    "action_stats = {Actions.Sell: 0, Actions.Buy: 0}\n",
    "observation, info_ppo = env_test.reset(seed=seed_ppo)\n",
    "\n",
    "while not done:\n",
    "    action_ppo, _states = model_ppo.predict(obs_ppo)\n",
    "    action_stats[Actions(action_ppo)] += 1\n",
    "    obs_ppo, reward_ppo, terminated, truncated, info_ppo = env_test.step(action_ppo)\n",
    "    done = terminated or truncated\n",
    "\n",
    "    if done:\n",
    "        break\n",
    "\n",
    "env_test.close()\n",
    "\n",
    "print(\"action_stats:\", action_stats)\n",
    "print(\"info:\", info_ppo)"
   ]
  },
  {
   "cell_type": "code",
   "execution_count": null,
   "metadata": {},
   "outputs": [],
   "source": [
    "plt.figure(figsize=(16, 6))\n",
    "env_test.unwrapped.render_all()\n",
    "plt.show()"
   ]
  },
  {
   "cell_type": "code",
   "execution_count": null,
   "metadata": {},
   "outputs": [],
   "source": [
    "qs.extend_pandas()\n",
    "window_size = 10\n",
    "start_index = int(len(FOREX_EURUSD_RENKO)*.8)\n",
    "end_index = int(len(FOREX_EURUSD_RENKO)*.99)\n",
    "\n",
    "net_worth = pd.Series(env_test.unwrapped.history['total_profit'], index=FOREX_EURUSD_RENKO.index[start_index+1:end_index])\n",
    "returns = net_worth.pct_change().iloc[1:]\n",
    "\n",
    "qs.reports.full(returns)\n",
    "qs.reports.html(returns, output='SB3_a2c_quantstats_ppo_4_3.html')"
   ]
  }
 ],
 "metadata": {
  "language_info": {
   "name": "python"
  }
 },
 "nbformat": 4,
 "nbformat_minor": 2
}
