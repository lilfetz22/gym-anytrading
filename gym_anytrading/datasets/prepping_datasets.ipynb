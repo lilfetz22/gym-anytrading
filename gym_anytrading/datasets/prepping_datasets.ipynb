{
  "cells": [
    {
      "cell_type": "markdown",
      "metadata": {
        "colab_type": "text",
        "id": "view-in-github"
      },
      "source": [
        "<a href=\"https://colab.research.google.com/github/lilfetz22/gym-anytrading/blob/master/gym_anytrading/datasets/prepping_datasets.ipynb\" target=\"_parent\"><img src=\"https://colab.research.google.com/assets/colab-badge.svg\" alt=\"Open In Colab\"/></a>"
      ]
    },
    {
      "cell_type": "code",
      "execution_count": 16,
      "metadata": {
        "colab": {
          "base_uri": "https://localhost:8080/"
        },
        "id": "ohDrQv8q4VjG",
        "outputId": "ca07213d-0f7d-4ee6-c8a5-0fcdce5fce50"
      },
      "outputs": [
        {
          "name": "stdout",
          "output_type": "stream",
          "text": [
            "Drive already mounted at /content/drive; to attempt to forcibly remount, call drive.mount(\"/content/drive\", force_remount=True).\n"
          ]
        }
      ],
      "source": [
        "from google.colab import drive\n",
        "drive.mount('/content/drive')"
      ]
    },
    {
      "cell_type": "code",
      "execution_count": 2,
      "metadata": {
        "colab": {
          "base_uri": "https://localhost:8080/"
        },
        "id": "AgIOVW0J4dzu",
        "outputId": "9b93d37e-40b6-4553-f22a-9814f96633f8"
      },
      "outputs": [
        {
          "name": "stdout",
          "output_type": "stream",
          "text": [
            "Collecting renkodf\n",
            "  Downloading renkodf-1.1-py3-none-any.whl (10 kB)\n",
            "Requirement already satisfied: numpy in /usr/local/lib/python3.10/dist-packages (from renkodf) (1.25.2)\n",
            "Requirement already satisfied: pandas in /usr/local/lib/python3.10/dist-packages (from renkodf) (2.0.3)\n",
            "Collecting mplfinance (from renkodf)\n",
            "  Downloading mplfinance-0.12.10b0-py3-none-any.whl (75 kB)\n",
            "\u001b[2K     \u001b[90m━━━━━━━━━━━━━━━━━━━━━━━━━━━━━━━━━━━━━━━━\u001b[0m \u001b[32m75.0/75.0 kB\u001b[0m \u001b[31m1.2 MB/s\u001b[0m eta \u001b[36m0:00:00\u001b[0m\n",
            "\u001b[?25hRequirement already satisfied: matplotlib in /usr/local/lib/python3.10/dist-packages (from mplfinance->renkodf) (3.7.1)\n",
            "Requirement already satisfied: python-dateutil>=2.8.2 in /usr/local/lib/python3.10/dist-packages (from pandas->renkodf) (2.8.2)\n",
            "Requirement already satisfied: pytz>=2020.1 in /usr/local/lib/python3.10/dist-packages (from pandas->renkodf) (2023.4)\n",
            "Requirement already satisfied: tzdata>=2022.1 in /usr/local/lib/python3.10/dist-packages (from pandas->renkodf) (2024.1)\n",
            "Requirement already satisfied: six>=1.5 in /usr/local/lib/python3.10/dist-packages (from python-dateutil>=2.8.2->pandas->renkodf) (1.16.0)\n",
            "Requirement already satisfied: contourpy>=1.0.1 in /usr/local/lib/python3.10/dist-packages (from matplotlib->mplfinance->renkodf) (1.2.0)\n",
            "Requirement already satisfied: cycler>=0.10 in /usr/local/lib/python3.10/dist-packages (from matplotlib->mplfinance->renkodf) (0.12.1)\n",
            "Requirement already satisfied: fonttools>=4.22.0 in /usr/local/lib/python3.10/dist-packages (from matplotlib->mplfinance->renkodf) (4.50.0)\n",
            "Requirement already satisfied: kiwisolver>=1.0.1 in /usr/local/lib/python3.10/dist-packages (from matplotlib->mplfinance->renkodf) (1.4.5)\n",
            "Requirement already satisfied: packaging>=20.0 in /usr/local/lib/python3.10/dist-packages (from matplotlib->mplfinance->renkodf) (24.0)\n",
            "Requirement already satisfied: pillow>=6.2.0 in /usr/local/lib/python3.10/dist-packages (from matplotlib->mplfinance->renkodf) (9.4.0)\n",
            "Requirement already satisfied: pyparsing>=2.3.1 in /usr/local/lib/python3.10/dist-packages (from matplotlib->mplfinance->renkodf) (3.1.2)\n",
            "Installing collected packages: mplfinance, renkodf\n",
            "Successfully installed mplfinance-0.12.10b0 renkodf-1.1\n"
          ]
        }
      ],
      "source": [
        "%pip install renkodf"
      ]
    },
    {
      "cell_type": "code",
      "execution_count": 18,
      "metadata": {
        "id": "DS9OsB01zG39"
      },
      "outputs": [],
      "source": [
        "import numpy as np\n",
        "import pandas as pd\n",
        "import os\n",
        "from renkodf import Renko"
      ]
    },
    {
      "cell_type": "code",
      "execution_count": 19,
      "metadata": {
        "id": "KQf0qbzszG4C"
      },
      "outputs": [],
      "source": [
        "filepath = \"/content/drive/MyDrive/Trading/EURUSD data/\"\n",
        "# anytrading_filepath = \"/gym-anytrading/gym_anytrading/datasets/data/\"\n",
        "brick_size = 0.00065\n",
        "brick_size_str = str(int(brick_size*100000))"
      ]
    },
    {
      "cell_type": "code",
      "execution_count": 20,
      "metadata": {
        "id": "D8Lb24eHzG4D"
      },
      "outputs": [],
      "source": [
        "# # collect the actual data from csv file\n",
        "# # filename = \"C:/Users/WilliamFetzner/Documents/Trading/DAT_XLSX_EURUSD_M1_2023.xlsx\"\n",
        "\n",
        "# # exported from tickstory\n",
        "\n",
        "# yr_tickstory_csvs = []\n",
        "# for year in range(17, 22):\n",
        "#     yr_tickstory_csvs.append(f\"EURUSD_11_15_{year}_to_11_15_{year+1}.csv\")\n",
        "# tickstory_csvs = [\"EURUSD_11_15_22_to_11_14_23.csv\", \"3mo_EURUSD.csv\", \"EURUSD_2_13_to_3_6.csv\",\n",
        "#                     \"EURUSD_3_6_to_3_8_24.csv\", \"EURUSD_3_8_to_3_12_24.csv\", \"EURUSD_3_12_to_3_22_24.csv\",\n",
        "#                     \"EURUSD_3_23_to_3_30_24.csv\"]\n",
        "# tickstory_csvs.extend(yr_tickstory_csvs)\n",
        "# tickstory_csvs\n"
      ]
    },
    {
      "cell_type": "code",
      "execution_count": 21,
      "metadata": {
        "id": "QNRI01l4zG4E"
      },
      "outputs": [],
      "source": [
        "csvs = [ 'EURUSD_11_15_17_to_11_15_18.csv',\n",
        " 'EURUSD_11_15_18_to_11_15_19.csv',\n",
        " 'EURUSD_11_15_19_to_11_15_20.csv',\n",
        " 'EURUSD_11_15_20_to_11_15_21.csv',\n",
        " 'EURUSD_11_15_21_to_11_15_22.csv',\n",
        " 'EURUSD_11_15_22_to_11_14_23.csv',\n",
        " '3mo_EURUSD.csv',\n",
        " 'EURUSD_2_13_to_3_6.csv',\n",
        " 'EURUSD_3_6_to_3_8_24.csv',\n",
        " 'EURUSD_3_8_to_3_12_24.csv',\n",
        " 'EURUSD_3_12_to_3_22_24.csv',\n",
        " 'EURUSD_3_23_to_3_30_24.csv',\n",
        "]"
      ]
    },
    {
      "cell_type": "code",
      "execution_count": 22,
      "metadata": {
        "id": "dneczX-DzG4F"
      },
      "outputs": [],
      "source": [
        "# # df = pd.DataFrame()\n",
        "# for df_name in last_to_add:\n",
        "#     # check if filepath + \"EURUSD_11_15_17_to_3_30_24.csv\" exists\n",
        "#     if not os.path.exists(filepath + \"EURUSD_full_tickstory_data.csv\"):\n",
        "#         df = pd.DataFrame()\n",
        "#     else:\n",
        "#         df = pd.read_csv(filepath + \"EURUSD_full_tickstory_data.csv\")\n",
        "#     df_new = pd.read_csv(filepath + df_name)\n",
        "#     print(len(df_new), df_name)\n",
        "#     df = pd.concat([df, df_new], ignore_index=True)\n",
        "#     # save to csv\n",
        "#     df.to_csv(filepath + \"EURUSD_full_tickstory_data.csv\", index=False)"
      ]
    },
    {
      "cell_type": "code",
      "execution_count": 23,
      "metadata": {
        "id": "T0f_KIYhzG4F"
      },
      "outputs": [],
      "source": [
        "def prep_data_fx(df):\n",
        "    df = df.reset_index(drop=True)\n",
        "    # drop any duplicate rows\n",
        "    df = df.drop_duplicates()\n",
        "    # convert date to datetime\n",
        "    df['datetime'] = pd.to_datetime(df['Timestamp'], format='%Y%m%d %H:%M:%S:%f')\n",
        "    # sort by datetime\n",
        "    df = df.sort_values(by='datetime')\n",
        "    # rename bid price to close\n",
        "    df.rename(columns={'Bid price':'close'}, inplace=True)\n",
        "    df_ready = df.set_index('datetime')\n",
        "    # adjust the datetime 7 hrs ahead to match market time\n",
        "    df_ready.index = df_ready.index + pd.Timedelta(hours=7)\n",
        "    # ohlc = df_ready[['close']]\n",
        "    return df_ready"
      ]
    },
    {
      "cell_type": "code",
      "execution_count": 24,
      "metadata": {
        "id": "MFnBUaM5zG4F"
      },
      "outputs": [],
      "source": [
        "def generate_renko(df, brick_size):\n",
        "    # create a renko chart from the ohlc_dec_1 dataframe\n",
        "    r_full = Renko(df, brick_size=brick_size)\n",
        "    # create a new dataframe from the renko features\n",
        "    renko_full_data = r_full.renko_df()\n",
        "    return renko_full_data"
      ]
    },
    {
      "cell_type": "code",
      "execution_count": 25,
      "metadata": {
        "id": "3mu8pKmbzctd"
      },
      "outputs": [],
      "source": [
        "for csv in csvs:\n",
        "    if ((os.path.isfile(f'{filepath}/prepped_{csv}')) &\n",
        "    (os.path.isfile(f'{filepath}/prepped_last_2_days_{csv}'))):\n",
        "        continue\n",
        "    elif ((os.path.isfile(f'{filepath}/prepped_{csv}')) and not\n",
        "    (os.path.isfile(f'{filepath}/prepped_last_2_days_{csv}'))):\n",
        "        df = pd.read_csv(f'{filepath}/prepped_{csv}')\n",
        "        # convert the 'datetime' column to datetime\n",
        "        df['datetime'] = pd.to_datetime(df['datetime'])\n",
        "        # set the datetime column as the index\n",
        "        df = df.set_index('datetime')\n",
        "        print(f'{csv} already prepped')\n",
        "    else:\n",
        "        df = pd.read_csv(filepath + csv)\n",
        "        df = prep_data_fx(df)\n",
        "        df.to_csv(f'{filepath}/prepped_{csv}', index=True)\n",
        "    # find the last day of the dataframe\n",
        "    last_day = df.index[-1].date()\n",
        "    # find the last 2 days of the dataframe by adding 1 day to the last day\n",
        "    last_2_days = last_day - pd.Timedelta(days=1)\n",
        "    # get the last 2 days of data\n",
        "    df_last_2_days = df.loc[df.index.date >= last_2_days]\n",
        "    # save it to a csv file\n",
        "    df_last_2_days.to_csv(f'{filepath}/prepped_last_2_days_{csv}', index=True)"
      ]
    },
    {
      "cell_type": "code",
      "execution_count": 26,
      "metadata": {
        "id": "Y-EmxSCkzG4G"
      },
      "outputs": [],
      "source": [
        "csvs_to_check_for_overlap = []\n",
        "if len(csvs_to_check_for_overlap) > 0:\n",
        "    # make sure that none of the csvs have overlapping data\n",
        "    for i, csv in enumerate(csvs_to_check_for_overlap):\n",
        "        df = pd.read_csv(f'{filepath}/prepped_last_2_days_{csv}')\n",
        "        # convert the 'datetime' column to datetime\n",
        "        df['datetime'] = pd.to_datetime(df['datetime'])\n",
        "        # set the datetime column as the index\n",
        "        df = df.set_index('datetime')\n",
        "        if i == len(csvs_to_check_for_overlap) - 1:\n",
        "            print('we are at the end of the list, stop')\n",
        "            break\n",
        "        df2 = pd.read_csv(f'{filepath}/prepped_{csvs_to_check_for_overlap[i+1]}')\n",
        "        # convert the 'datetime' column to datetime\n",
        "        df2['datetime'] = pd.to_datetime(df2['datetime'])\n",
        "        # set the datetime column as the index\n",
        "        df2 = df2.set_index('datetime')\n",
        "        if df.index[-1] >= df2.index[0]:\n",
        "            # drop any rows in df2 that are in df by finding the intersection of the two indexes\n",
        "            df2 = df2.drop(df2.index.intersection(df.index), axis=0)\n",
        "        del df\n",
        "        # save it back to the csv without the overlap\n",
        "        df2.to_csv(f'{filepath}/prepped_{csvs_to_check_for_overlap[i+1]}', index=True)\n",
        "        del df2\n",
        "        print(f'finished {i} loop')"
      ]
    },
    {
      "cell_type": "code",
      "execution_count": 27,
      "metadata": {
        "colab": {
          "base_uri": "https://localhost:8080/"
        },
        "id": "Xw26yrwgzG4G",
        "outputId": "15ba58dd-63be-4164-d0d8-c87416faef46"
      },
      "outputs": [
        {
          "name": "stderr",
          "output_type": "stream",
          "text": [
            "/usr/local/lib/python3.10/dist-packages/renkodf/renkodf.py:46: SettingWithCopyWarning: \n",
            "A value is trying to be set on a copy of a slice from a DataFrame.\n",
            "Try using .loc[row_indexer,col_indexer] = value instead\n",
            "\n",
            "See the caveats in the documentation: https://pandas.pydata.org/pandas-docs/stable/user_guide/indexing.html#returning-a-view-versus-a-copy\n",
            "  df[\"datetime\"] = df.index\n",
            "<ipython-input-27-b178d8b95019>:20: SettingWithCopyWarning: \n",
            "A value is trying to be set on a copy of a slice from a DataFrame.\n",
            "Try using .loc[row_indexer,col_indexer] = value instead\n",
            "\n",
            "See the caveats in the documentation: https://pandas.pydata.org/pandas-docs/stable/user_guide/indexing.html#returning-a-view-versus-a-copy\n",
            "  df_prepped['diff'] = np.where(abs(df_prepped['close'] - last_row['close'].values[0]) >= brick_size, 1, 0)\n",
            "/usr/local/lib/python3.10/dist-packages/renkodf/renkodf.py:46: SettingWithCopyWarning: \n",
            "A value is trying to be set on a copy of a slice from a DataFrame.\n",
            "Try using .loc[row_indexer,col_indexer] = value instead\n",
            "\n",
            "See the caveats in the documentation: https://pandas.pydata.org/pandas-docs/stable/user_guide/indexing.html#returning-a-view-versus-a-copy\n",
            "  df[\"datetime\"] = df.index\n",
            "<ipython-input-27-b178d8b95019>:20: SettingWithCopyWarning: \n",
            "A value is trying to be set on a copy of a slice from a DataFrame.\n",
            "Try using .loc[row_indexer,col_indexer] = value instead\n",
            "\n",
            "See the caveats in the documentation: https://pandas.pydata.org/pandas-docs/stable/user_guide/indexing.html#returning-a-view-versus-a-copy\n",
            "  df_prepped['diff'] = np.where(abs(df_prepped['close'] - last_row['close'].values[0]) >= brick_size, 1, 0)\n",
            "/usr/local/lib/python3.10/dist-packages/renkodf/renkodf.py:46: SettingWithCopyWarning: \n",
            "A value is trying to be set on a copy of a slice from a DataFrame.\n",
            "Try using .loc[row_indexer,col_indexer] = value instead\n",
            "\n",
            "See the caveats in the documentation: https://pandas.pydata.org/pandas-docs/stable/user_guide/indexing.html#returning-a-view-versus-a-copy\n",
            "  df[\"datetime\"] = df.index\n",
            "<ipython-input-27-b178d8b95019>:20: SettingWithCopyWarning: \n",
            "A value is trying to be set on a copy of a slice from a DataFrame.\n",
            "Try using .loc[row_indexer,col_indexer] = value instead\n",
            "\n",
            "See the caveats in the documentation: https://pandas.pydata.org/pandas-docs/stable/user_guide/indexing.html#returning-a-view-versus-a-copy\n",
            "  df_prepped['diff'] = np.where(abs(df_prepped['close'] - last_row['close'].values[0]) >= brick_size, 1, 0)\n",
            "/usr/local/lib/python3.10/dist-packages/renkodf/renkodf.py:46: SettingWithCopyWarning: \n",
            "A value is trying to be set on a copy of a slice from a DataFrame.\n",
            "Try using .loc[row_indexer,col_indexer] = value instead\n",
            "\n",
            "See the caveats in the documentation: https://pandas.pydata.org/pandas-docs/stable/user_guide/indexing.html#returning-a-view-versus-a-copy\n",
            "  df[\"datetime\"] = df.index\n",
            "<ipython-input-27-b178d8b95019>:20: SettingWithCopyWarning: \n",
            "A value is trying to be set on a copy of a slice from a DataFrame.\n",
            "Try using .loc[row_indexer,col_indexer] = value instead\n",
            "\n",
            "See the caveats in the documentation: https://pandas.pydata.org/pandas-docs/stable/user_guide/indexing.html#returning-a-view-versus-a-copy\n",
            "  df_prepped['diff'] = np.where(abs(df_prepped['close'] - last_row['close'].values[0]) >= brick_size, 1, 0)\n",
            "/usr/local/lib/python3.10/dist-packages/renkodf/renkodf.py:46: SettingWithCopyWarning: \n",
            "A value is trying to be set on a copy of a slice from a DataFrame.\n",
            "Try using .loc[row_indexer,col_indexer] = value instead\n",
            "\n",
            "See the caveats in the documentation: https://pandas.pydata.org/pandas-docs/stable/user_guide/indexing.html#returning-a-view-versus-a-copy\n",
            "  df[\"datetime\"] = df.index\n",
            "<ipython-input-27-b178d8b95019>:20: SettingWithCopyWarning: \n",
            "A value is trying to be set on a copy of a slice from a DataFrame.\n",
            "Try using .loc[row_indexer,col_indexer] = value instead\n",
            "\n",
            "See the caveats in the documentation: https://pandas.pydata.org/pandas-docs/stable/user_guide/indexing.html#returning-a-view-versus-a-copy\n",
            "  df_prepped['diff'] = np.where(abs(df_prepped['close'] - last_row['close'].values[0]) >= brick_size, 1, 0)\n",
            "/usr/local/lib/python3.10/dist-packages/renkodf/renkodf.py:46: SettingWithCopyWarning: \n",
            "A value is trying to be set on a copy of a slice from a DataFrame.\n",
            "Try using .loc[row_indexer,col_indexer] = value instead\n",
            "\n",
            "See the caveats in the documentation: https://pandas.pydata.org/pandas-docs/stable/user_guide/indexing.html#returning-a-view-versus-a-copy\n",
            "  df[\"datetime\"] = df.index\n",
            "<ipython-input-27-b178d8b95019>:20: SettingWithCopyWarning: \n",
            "A value is trying to be set on a copy of a slice from a DataFrame.\n",
            "Try using .loc[row_indexer,col_indexer] = value instead\n",
            "\n",
            "See the caveats in the documentation: https://pandas.pydata.org/pandas-docs/stable/user_guide/indexing.html#returning-a-view-versus-a-copy\n",
            "  df_prepped['diff'] = np.where(abs(df_prepped['close'] - last_row['close'].values[0]) >= brick_size, 1, 0)\n",
            "/usr/local/lib/python3.10/dist-packages/renkodf/renkodf.py:46: SettingWithCopyWarning: \n",
            "A value is trying to be set on a copy of a slice from a DataFrame.\n",
            "Try using .loc[row_indexer,col_indexer] = value instead\n",
            "\n",
            "See the caveats in the documentation: https://pandas.pydata.org/pandas-docs/stable/user_guide/indexing.html#returning-a-view-versus-a-copy\n",
            "  df[\"datetime\"] = df.index\n",
            "<ipython-input-27-b178d8b95019>:20: SettingWithCopyWarning: \n",
            "A value is trying to be set on a copy of a slice from a DataFrame.\n",
            "Try using .loc[row_indexer,col_indexer] = value instead\n",
            "\n",
            "See the caveats in the documentation: https://pandas.pydata.org/pandas-docs/stable/user_guide/indexing.html#returning-a-view-versus-a-copy\n",
            "  df_prepped['diff'] = np.where(abs(df_prepped['close'] - last_row['close'].values[0]) >= brick_size, 1, 0)\n",
            "/usr/local/lib/python3.10/dist-packages/renkodf/renkodf.py:46: SettingWithCopyWarning: \n",
            "A value is trying to be set on a copy of a slice from a DataFrame.\n",
            "Try using .loc[row_indexer,col_indexer] = value instead\n",
            "\n",
            "See the caveats in the documentation: https://pandas.pydata.org/pandas-docs/stable/user_guide/indexing.html#returning-a-view-versus-a-copy\n",
            "  df[\"datetime\"] = df.index\n",
            "<ipython-input-27-b178d8b95019>:20: SettingWithCopyWarning: \n",
            "A value is trying to be set on a copy of a slice from a DataFrame.\n",
            "Try using .loc[row_indexer,col_indexer] = value instead\n",
            "\n",
            "See the caveats in the documentation: https://pandas.pydata.org/pandas-docs/stable/user_guide/indexing.html#returning-a-view-versus-a-copy\n",
            "  df_prepped['diff'] = np.where(abs(df_prepped['close'] - last_row['close'].values[0]) >= brick_size, 1, 0)\n",
            "/usr/local/lib/python3.10/dist-packages/renkodf/renkodf.py:46: SettingWithCopyWarning: \n",
            "A value is trying to be set on a copy of a slice from a DataFrame.\n",
            "Try using .loc[row_indexer,col_indexer] = value instead\n",
            "\n",
            "See the caveats in the documentation: https://pandas.pydata.org/pandas-docs/stable/user_guide/indexing.html#returning-a-view-versus-a-copy\n",
            "  df[\"datetime\"] = df.index\n",
            "<ipython-input-27-b178d8b95019>:20: SettingWithCopyWarning: \n",
            "A value is trying to be set on a copy of a slice from a DataFrame.\n",
            "Try using .loc[row_indexer,col_indexer] = value instead\n",
            "\n",
            "See the caveats in the documentation: https://pandas.pydata.org/pandas-docs/stable/user_guide/indexing.html#returning-a-view-versus-a-copy\n",
            "  df_prepped['diff'] = np.where(abs(df_prepped['close'] - last_row['close'].values[0]) >= brick_size, 1, 0)\n",
            "/usr/local/lib/python3.10/dist-packages/renkodf/renkodf.py:46: SettingWithCopyWarning: \n",
            "A value is trying to be set on a copy of a slice from a DataFrame.\n",
            "Try using .loc[row_indexer,col_indexer] = value instead\n",
            "\n",
            "See the caveats in the documentation: https://pandas.pydata.org/pandas-docs/stable/user_guide/indexing.html#returning-a-view-versus-a-copy\n",
            "  df[\"datetime\"] = df.index\n",
            "<ipython-input-27-b178d8b95019>:20: SettingWithCopyWarning: \n",
            "A value is trying to be set on a copy of a slice from a DataFrame.\n",
            "Try using .loc[row_indexer,col_indexer] = value instead\n",
            "\n",
            "See the caveats in the documentation: https://pandas.pydata.org/pandas-docs/stable/user_guide/indexing.html#returning-a-view-versus-a-copy\n",
            "  df_prepped['diff'] = np.where(abs(df_prepped['close'] - last_row['close'].values[0]) >= brick_size, 1, 0)\n",
            "/usr/local/lib/python3.10/dist-packages/renkodf/renkodf.py:46: SettingWithCopyWarning: \n",
            "A value is trying to be set on a copy of a slice from a DataFrame.\n",
            "Try using .loc[row_indexer,col_indexer] = value instead\n",
            "\n",
            "See the caveats in the documentation: https://pandas.pydata.org/pandas-docs/stable/user_guide/indexing.html#returning-a-view-versus-a-copy\n",
            "  df[\"datetime\"] = df.index\n",
            "<ipython-input-27-b178d8b95019>:20: SettingWithCopyWarning: \n",
            "A value is trying to be set on a copy of a slice from a DataFrame.\n",
            "Try using .loc[row_indexer,col_indexer] = value instead\n",
            "\n",
            "See the caveats in the documentation: https://pandas.pydata.org/pandas-docs/stable/user_guide/indexing.html#returning-a-view-versus-a-copy\n",
            "  df_prepped['diff'] = np.where(abs(df_prepped['close'] - last_row['close'].values[0]) >= brick_size, 1, 0)\n",
            "/usr/local/lib/python3.10/dist-packages/renkodf/renkodf.py:46: SettingWithCopyWarning: \n",
            "A value is trying to be set on a copy of a slice from a DataFrame.\n",
            "Try using .loc[row_indexer,col_indexer] = value instead\n",
            "\n",
            "See the caveats in the documentation: https://pandas.pydata.org/pandas-docs/stable/user_guide/indexing.html#returning-a-view-versus-a-copy\n",
            "  df[\"datetime\"] = df.index\n"
          ]
        }
      ],
      "source": [
        "for i, csv in enumerate(csvs):\n",
        "    df = pd.read_csv(f'{filepath}/prepped_{csv}')\n",
        "    # convert the 'datetime' column to datetime\n",
        "    df['datetime'] = pd.to_datetime(df['datetime'])\n",
        "    # set the datetime column as the index\n",
        "    df = df.set_index('datetime')\n",
        "    df_prepped = df[['close']]\n",
        "    if i == 0:\n",
        "        renko_full_data = generate_renko(df_prepped, brick_size)\n",
        "        renko_full_data = renko_full_data.sort_values(by='datetime')\n",
        "        year = renko_full_data.index[0]\n",
        "        year_end = renko_full_data.index[-1]\n",
        "        # save renko_full_data to csv\n",
        "        renko_full_data.to_csv(f'{filepath}/renko_full_data_{brick_size_str}_{year}_{year_end}.csv')\n",
        "        # save renko_full_data to csv\n",
        "        renko_full_data.to_csv(f'{filepath}/renko_full_data_{brick_size_str}.csv')\n",
        "    else:\n",
        "        # find the first value of in the df_prepped that is greater than or equal to the absolute value of the  difference between last_row.close and df_prepped.close\n",
        "        # first create a new column in df_prepped that is the absolute value of the difference between the close and last_row.close\n",
        "        df_prepped['diff'] = np.where(abs(df_prepped['close'] - last_row['close'].values[0]) >= brick_size, 1, 0)\n",
        "        # find the first index where diff is 1\n",
        "        first_index = df_prepped[df_prepped['diff'] == 1].index[0]\n",
        "        # get the dataframe from first_index to the end\n",
        "        df_prepped_adjusted = df_prepped.loc[first_index:]\n",
        "        # generate the renko chart\n",
        "        renko_df = generate_renko(df_prepped, brick_size)\n",
        "        year = renko_df.index[0]\n",
        "        year_end = renko_df.index[-1]\n",
        "        # save renko_df to csv\n",
        "        renko_df.to_csv(f'{filepath}/renko_full_data_{brick_size_str}_{year}_{year_end}.csv')\n",
        "        # concatenate the renko_df to the renko_full_data.csv\n",
        "        renko_full_data = pd.read_csv(f'{filepath}/renko_full_data_{brick_size_str}.csv')\n",
        "        # convert the 'datetime' column to datetime\n",
        "        renko_full_data['datetime'] = pd.to_datetime(renko_full_data['datetime'])\n",
        "        # reset the index of renko_df\n",
        "        renko_df = renko_df.reset_index()\n",
        "        renko_full_data = pd.concat([renko_full_data, renko_df], ignore_index=True)\n",
        "        # sort by datetime\n",
        "        renko_full_data = renko_full_data.sort_values(by='datetime')\n",
        "        # save to csv\n",
        "        renko_full_data.to_csv(f'{filepath}/renko_full_data_{brick_size_str}.csv', index=False)\n",
        "    renko_datetime_close = renko_full_data.loc[:, ['close']]\n",
        "    # get the last row of the renko full data\n",
        "    last_row = pd.DataFrame(renko_datetime_close.iloc[-1]).T\n",
        "    del df"
      ]
    }
  ],
  "metadata": {
    "colab": {
      "include_colab_link": true,
      "provenance": []
    },
    "kernelspec": {
      "display_name": "Python 3",
      "language": "python",
      "name": "python3"
    },
    "language_info": {
      "codemirror_mode": {
        "name": "ipython",
        "version": 3
      },
      "file_extension": ".py",
      "mimetype": "text/x-python",
      "name": "python",
      "nbconvert_exporter": "python",
      "pygments_lexer": "ipython3",
      "version": "3.11.4"
    }
  },
  "nbformat": 4,
  "nbformat_minor": 0
}
