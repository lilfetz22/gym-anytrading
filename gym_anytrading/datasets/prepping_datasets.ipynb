{
 "cells": [
  {
   "cell_type": "code",
   "execution_count": 8,
   "metadata": {},
   "outputs": [],
   "source": [
    "import numpy as np\n",
    "import os\n",
    "import matplotlib.pyplot as plt\n",
    "import pandas as pd\n",
    "from collections import deque\n",
    "import mplfinance \n",
    "from renkodf import Renko\n",
    "from scipy.signal import lfilter\n",
    "# import MetaTrader5 as mt5"
   ]
  },
  {
   "cell_type": "code",
   "execution_count": 9,
   "metadata": {},
   "outputs": [
    {
     "data": {
      "text/plain": [
       "['EURUSD_11_15_22_to_11_14_23.csv',\n",
       " '3mo_EURUSD.csv',\n",
       " 'EURUSD_2_13_to_3_6.csv',\n",
       " 'EURUSD_3_6_to_3_8_24.csv',\n",
       " 'EURUSD_3_8_to_3_12_24.csv',\n",
       " 'EURUSD_3_12_to_3_22_24.csv',\n",
       " 'EURUSD_3_23_to_3_30_24.csv',\n",
       " 'EURUSD_11_15_17_to_11_15_18.csv',\n",
       " 'EURUSD_11_15_18_to_11_15_19.csv',\n",
       " 'EURUSD_11_15_19_to_11_15_20.csv',\n",
       " 'EURUSD_11_15_20_to_11_15_21.csv',\n",
       " 'EURUSD_11_15_21_to_11_15_22.csv']"
      ]
     },
     "execution_count": 9,
     "metadata": {},
     "output_type": "execute_result"
    }
   ],
   "source": [
    "# collect the actual data from csv file\n",
    "# filename = \"C:/Users/WilliamFetzner/Documents/Trading/DAT_XLSX_EURUSD_M1_2023.xlsx\"\n",
    "\n",
    "# exported from tickstory\n",
    "filepath = \"C:/Users/WilliamFetzner/Documents/Trading/\"\n",
    "yr_tickstory_csvs = []\n",
    "for year in range(17, 22):\n",
    "    yr_tickstory_csvs.append(f\"EURUSD_11_15_{year}_to_11_15_{year+1}.csv\")\n",
    "tickstory_csvs = [\"EURUSD_11_15_22_to_11_14_23.csv\", \"3mo_EURUSD.csv\", \"EURUSD_2_13_to_3_6.csv\", \n",
    "                    \"EURUSD_3_6_to_3_8_24.csv\", \"EURUSD_3_8_to_3_12_24.csv\", \"EURUSD_3_12_to_3_22_24.csv\",\n",
    "                    \"EURUSD_3_23_to_3_30_24.csv\"]\n",
    "tickstory_csvs.extend(yr_tickstory_csvs)\n",
    "tickstory_csvs\n"
   ]
  },
  {
   "cell_type": "code",
   "execution_count": null,
   "metadata": {},
   "outputs": [],
   "source": [
    "df = pd.DataFrame()\n",
    "for df_name in tickstory_csvs:\n",
    "    df_new = pd.read_csv(filepath + df_name)\n",
    "    print(len(df_new))\n",
    "    df = pd.concat([df, df_new], ignore_index=True)"
   ]
  },
  {
   "cell_type": "code",
   "execution_count": null,
   "metadata": {},
   "outputs": [],
   "source": [
    "df = df.reset_index(drop=True)\n",
    "# drop any duplicate rows\n",
    "df = df.drop_duplicates()"
   ]
  },
  {
   "cell_type": "code",
   "execution_count": null,
   "metadata": {},
   "outputs": [],
   "source": [
    "# convert date to datetime\n",
    "df['datetime'] = pd.to_datetime(df['Timestamp'], format='%Y%m%d %H:%M:%S:%f')\n",
    "# sort by datetime\n",
    "df = df.sort_values(by='datetime')\n",
    "# rename bid price to close\n",
    "df.rename(columns={'Bid price':'close'}, inplace=True)\n",
    "df_ready = df.set_index('datetime')\n",
    "# adjust the datetime 7 hrs ahead to match market time\n",
    "df_ready.index = df_ready.index + pd.Timedelta(hours=7)\n",
    "ohlc = df_ready[['close']]\n",
    "ohlc"
   ]
  },
  {
   "cell_type": "code",
   "execution_count": null,
   "metadata": {},
   "outputs": [],
   "source": [
    "brick_size = 0.00081\n",
    "# create a renko chart from the ohlc_dec_1 dataframe\n",
    "r_full = Renko(ohlc, brick_size=brick_size)\n",
    "# create a new dataframe from the renko features\n",
    "renko_full_data = r_full.renko_df()\n",
    "# multiply brick_size by 10,000 to get a whole number\n",
    "brick_size_str = str(int(brick_size*100000))\n",
    "# save renko to csv\n",
    "# renko_full_data.to_csv(f'./brick_size_variations/renko_full_data_{brick_size_str}.csv')\n",
    "renko_full_data.to_csv(f'C:/Users/WilliamFetzner/Documents/Trading/gym-anytrading/gym_anytrading/datasets/data/renko_full_data_{brick_size_str}.csv')"
   ]
  }
 ],
 "metadata": {
  "kernelspec": {
   "display_name": "Python 3",
   "language": "python",
   "name": "python3"
  },
  "language_info": {
   "codemirror_mode": {
    "name": "ipython",
    "version": 3
   },
   "file_extension": ".py",
   "mimetype": "text/x-python",
   "name": "python",
   "nbconvert_exporter": "python",
   "pygments_lexer": "ipython3",
   "version": "3.11.4"
  }
 },
 "nbformat": 4,
 "nbformat_minor": 2
}
