{
 "cells": [
  {
   "cell_type": "code",
   "execution_count": 1,
   "metadata": {},
   "outputs": [],
   "source": [
    "import numpy as np\n",
    "import pandas as pd\n",
    "import os\n",
    "import matplotlib.pyplot as plt\n",
    "import pandas as pd\n",
    "from collections import deque\n",
    "import mplfinance \n",
    "from renkodf import Renko\n",
    "from scipy.signal import lfilter\n",
    "# import MetaTrader5 as mt5"
   ]
  },
  {
   "cell_type": "code",
   "execution_count": 2,
   "metadata": {},
   "outputs": [],
   "source": [
    "filepath = \"C:/Users/WilliamFetzner/Documents/Trading/\"\n",
    "anytrading_filepath = \"/gym-anytrading/gym_anytrading/datasets/data/\""
   ]
  },
  {
   "cell_type": "code",
   "execution_count": 2,
   "metadata": {},
   "outputs": [
    {
     "data": {
      "text/plain": [
       "['EURUSD_11_15_22_to_11_14_23.csv',\n",
       " '3mo_EURUSD.csv',\n",
       " 'EURUSD_2_13_to_3_6.csv',\n",
       " 'EURUSD_3_6_to_3_8_24.csv',\n",
       " 'EURUSD_3_8_to_3_12_24.csv',\n",
       " 'EURUSD_3_12_to_3_22_24.csv',\n",
       " 'EURUSD_3_23_to_3_30_24.csv',\n",
       " 'EURUSD_11_15_17_to_11_15_18.csv',\n",
       " 'EURUSD_11_15_18_to_11_15_19.csv',\n",
       " 'EURUSD_11_15_19_to_11_15_20.csv',\n",
       " 'EURUSD_11_15_20_to_11_15_21.csv',\n",
       " 'EURUSD_11_15_21_to_11_15_22.csv']"
      ]
     },
     "execution_count": 2,
     "metadata": {},
     "output_type": "execute_result"
    }
   ],
   "source": [
    "# collect the actual data from csv file\n",
    "# filename = \"C:/Users/WilliamFetzner/Documents/Trading/DAT_XLSX_EURUSD_M1_2023.xlsx\"\n",
    "\n",
    "# exported from tickstory\n",
    "\n",
    "yr_tickstory_csvs = []\n",
    "for year in range(17, 22):\n",
    "    yr_tickstory_csvs.append(f\"EURUSD_11_15_{year}_to_11_15_{year+1}.csv\")\n",
    "tickstory_csvs = [\"EURUSD_11_15_22_to_11_14_23.csv\", \"3mo_EURUSD.csv\", \"EURUSD_2_13_to_3_6.csv\", \n",
    "                    \"EURUSD_3_6_to_3_8_24.csv\", \"EURUSD_3_8_to_3_12_24.csv\", \"EURUSD_3_12_to_3_22_24.csv\",\n",
    "                    \"EURUSD_3_23_to_3_30_24.csv\"]\n",
    "tickstory_csvs.extend(yr_tickstory_csvs)\n",
    "tickstory_csvs\n"
   ]
  },
  {
   "cell_type": "code",
   "execution_count": 3,
   "metadata": {},
   "outputs": [],
   "source": [
    "last_to_add = ['EURUSD_11_15_20_to_11_15_21.csv',\n",
    " 'EURUSD_11_15_21_to_11_15_22.csv']"
   ]
  },
  {
   "cell_type": "code",
   "execution_count": 1,
   "metadata": {},
   "outputs": [],
   "source": [
    "# # df = pd.DataFrame()\n",
    "# for df_name in last_to_add:\n",
    "#     # check if filepath + \"EURUSD_11_15_17_to_3_30_24.csv\" exists\n",
    "#     if not os.path.exists(filepath + \"EURUSD_full_tickstory_data.csv\"):\n",
    "#         df = pd.DataFrame()\n",
    "#     else:\n",
    "#         df = pd.read_csv(filepath + \"EURUSD_full_tickstory_data.csv\")\n",
    "#     df_new = pd.read_csv(filepath + df_name)\n",
    "#     print(len(df_new), df_name)\n",
    "#     df = pd.concat([df, df_new], ignore_index=True)\n",
    "#     # save to csv\n",
    "#     df.to_csv(filepath + \"EURUSD_full_tickstory_data.csv\", index=False)"
   ]
  },
  {
   "cell_type": "code",
   "execution_count": 6,
   "metadata": {},
   "outputs": [],
   "source": [
    "def prep_data_fx(df):\n",
    "    df = df.reset_index(drop=True)\n",
    "    # drop any duplicate rows\n",
    "    df = df.drop_duplicates()\n",
    "    # convert date to datetime\n",
    "    df['datetime'] = pd.to_datetime(df['Timestamp'], format='%Y%m%d %H:%M:%S:%f')\n",
    "    # sort by datetime\n",
    "    df = df.sort_values(by='datetime')\n",
    "    # rename bid price to close\n",
    "    df.rename(columns={'Bid price':'close'}, inplace=True)\n",
    "    df_ready = df.set_index('datetime')\n",
    "    # adjust the datetime 7 hrs ahead to match market time\n",
    "    df_ready.index = df_ready.index + pd.Timedelta(hours=7)\n",
    "    ohlc = df_ready[['close']]\n",
    "    return ohlc"
   ]
  },
  {
   "cell_type": "code",
   "execution_count": 7,
   "metadata": {},
   "outputs": [],
   "source": [
    "def generate_renko(df, brick_size, ending=''):\n",
    "    # create a renko chart from the ohlc_dec_1 dataframe\n",
    "    r_full = Renko(df, brick_size=brick_size)\n",
    "    # create a new dataframe from the renko features\n",
    "    renko_full_data = r_full.renko_df()\n",
    "    # multiply brick_size by 10,000 to get a whole number\n",
    "    brick_size_str = str(int(brick_size*100000))\n",
    "    # save renko to csv\n",
    "    renko_full_data.to_csv(f'{filepath}{anytrading_filepath}renko_full_data_{brick_size_str}{ending}.csv')\n",
    "    return renko_full_data"
   ]
  },
  {
   "cell_type": "code",
   "execution_count": 4,
   "metadata": {},
   "outputs": [],
   "source": [
    "# df = pd.read_csv(filepath + \"EURUSD_full_tickstory_data.csv\")"
   ]
  },
  {
   "cell_type": "code",
   "execution_count": 10,
   "metadata": {},
   "outputs": [],
   "source": [
    "# df19_20 = pd.read_csv(filepath + \"EURUSD_11_15_19_to_11_15_20.csv\")\n",
    "# df20_21 = pd.read_csv(filepath + \"EURUSD_11_15_20_to_11_15_21.csv\")"
   ]
  },
  {
   "cell_type": "code",
   "execution_count": 8,
   "metadata": {},
   "outputs": [
    {
     "data": {
      "text/html": [
       "<div>\n",
       "<style scoped>\n",
       "    .dataframe tbody tr th:only-of-type {\n",
       "        vertical-align: middle;\n",
       "    }\n",
       "\n",
       "    .dataframe tbody tr th {\n",
       "        vertical-align: top;\n",
       "    }\n",
       "\n",
       "    .dataframe thead th {\n",
       "        text-align: right;\n",
       "    }\n",
       "</style>\n",
       "<table border=\"1\" class=\"dataframe\">\n",
       "  <thead>\n",
       "    <tr style=\"text-align: right;\">\n",
       "      <th></th>\n",
       "      <th>Timestamp</th>\n",
       "      <th>Bid price</th>\n",
       "      <th>Ask price</th>\n",
       "      <th>Bid volume</th>\n",
       "      <th>Ask volume</th>\n",
       "    </tr>\n",
       "  </thead>\n",
       "  <tbody>\n",
       "    <tr>\n",
       "      <th>126790936</th>\n",
       "      <td>20201115 18:59:51:975</td>\n",
       "      <td>1.18447</td>\n",
       "      <td>1.18451</td>\n",
       "      <td>0.75</td>\n",
       "      <td>1.50</td>\n",
       "    </tr>\n",
       "    <tr>\n",
       "      <th>126790937</th>\n",
       "      <td>20201115 18:59:52:076</td>\n",
       "      <td>1.18447</td>\n",
       "      <td>1.18450</td>\n",
       "      <td>0.75</td>\n",
       "      <td>0.75</td>\n",
       "    </tr>\n",
       "    <tr>\n",
       "      <th>126790938</th>\n",
       "      <td>20201115 18:59:52:178</td>\n",
       "      <td>1.18446</td>\n",
       "      <td>1.18451</td>\n",
       "      <td>1.12</td>\n",
       "      <td>4.50</td>\n",
       "    </tr>\n",
       "    <tr>\n",
       "      <th>126790939</th>\n",
       "      <td>20201115 18:59:56:232</td>\n",
       "      <td>1.18447</td>\n",
       "      <td>1.18452</td>\n",
       "      <td>0.75</td>\n",
       "      <td>13.86</td>\n",
       "    </tr>\n",
       "    <tr>\n",
       "      <th>126790940</th>\n",
       "      <td>20201115 18:59:58:934</td>\n",
       "      <td>1.18448</td>\n",
       "      <td>1.18450</td>\n",
       "      <td>0.75</td>\n",
       "      <td>0.75</td>\n",
       "    </tr>\n",
       "  </tbody>\n",
       "</table>\n",
       "</div>"
      ],
      "text/plain": [
       "                       Timestamp  Bid price  Ask price  Bid volume  Ask volume\n",
       "126790936  20201115 18:59:51:975    1.18447    1.18451        0.75        1.50\n",
       "126790937  20201115 18:59:52:076    1.18447    1.18450        0.75        0.75\n",
       "126790938  20201115 18:59:52:178    1.18446    1.18451        1.12        4.50\n",
       "126790939  20201115 18:59:56:232    1.18447    1.18452        0.75       13.86\n",
       "126790940  20201115 18:59:58:934    1.18448    1.18450        0.75        0.75"
      ]
     },
     "execution_count": 8,
     "metadata": {},
     "output_type": "execute_result"
    }
   ],
   "source": [
    "df.tail()"
   ]
  },
  {
   "cell_type": "code",
   "execution_count": null,
   "metadata": {},
   "outputs": [
    {
     "data": {
      "text/html": [
       "<div>\n",
       "<style scoped>\n",
       "    .dataframe tbody tr th:only-of-type {\n",
       "        vertical-align: middle;\n",
       "    }\n",
       "\n",
       "    .dataframe tbody tr th {\n",
       "        vertical-align: top;\n",
       "    }\n",
       "\n",
       "    .dataframe thead th {\n",
       "        text-align: right;\n",
       "    }\n",
       "</style>\n",
       "<table border=\"1\" class=\"dataframe\">\n",
       "  <thead>\n",
       "    <tr style=\"text-align: right;\">\n",
       "      <th></th>\n",
       "      <th>Timestamp</th>\n",
       "      <th>Bid price</th>\n",
       "      <th>Ask price</th>\n",
       "      <th>Bid volume</th>\n",
       "      <th>Ask volume</th>\n",
       "    </tr>\n",
       "  </thead>\n",
       "  <tbody>\n",
       "  </tbody>\n",
       "</table>\n",
       "</div>"
      ],
      "text/plain": [
       "Empty DataFrame\n",
       "Columns: [Timestamp, Bid price, Ask price, Bid volume, Ask volume]\n",
       "Index: []"
      ]
     },
     "execution_count": 8,
     "metadata": {},
     "output_type": "execute_result"
    }
   ],
   "source": [
    "# # find out if there are any missing data from df20_21 that is not in df\n",
    "# missing_data = df20_21.loc[~df20_21['Timestamp'].isin(df['Timestamp'])]\n",
    "# missing_data"
   ]
  },
  {
   "cell_type": "code",
   "execution_count": 9,
   "metadata": {},
   "outputs": [],
   "source": [
    "df = prep_data_fx(df)\n",
    "# df.to_csv(filepath + \"EURUSD_full_tickstory_data_prepped.csv\")"
   ]
  },
  {
   "cell_type": "code",
   "execution_count": 10,
   "metadata": {},
   "outputs": [],
   "source": [
    "renko_full_data = generate_renko(df, 0.00081, ending='_initial')"
   ]
  },
  {
   "cell_type": "code",
   "execution_count": 11,
   "metadata": {},
   "outputs": [
    {
     "data": {
      "text/html": [
       "<div>\n",
       "<style scoped>\n",
       "    .dataframe tbody tr th:only-of-type {\n",
       "        vertical-align: middle;\n",
       "    }\n",
       "\n",
       "    .dataframe tbody tr th {\n",
       "        vertical-align: top;\n",
       "    }\n",
       "\n",
       "    .dataframe thead th {\n",
       "        text-align: right;\n",
       "    }\n",
       "</style>\n",
       "<table border=\"1\" class=\"dataframe\">\n",
       "  <thead>\n",
       "    <tr style=\"text-align: right;\">\n",
       "      <th></th>\n",
       "      <th>datetime</th>\n",
       "      <th>open</th>\n",
       "      <th>high</th>\n",
       "      <th>low</th>\n",
       "      <th>close</th>\n",
       "      <th>volume</th>\n",
       "    </tr>\n",
       "  </thead>\n",
       "  <tbody>\n",
       "    <tr>\n",
       "      <th>0</th>\n",
       "      <td>2017-11-15 09:01:29.782</td>\n",
       "      <td>1.17936</td>\n",
       "      <td>1.18017</td>\n",
       "      <td>1.17846</td>\n",
       "      <td>1.18017</td>\n",
       "      <td>12545.0</td>\n",
       "    </tr>\n",
       "    <tr>\n",
       "      <th>1</th>\n",
       "      <td>2017-11-15 09:09:28.118</td>\n",
       "      <td>1.18017</td>\n",
       "      <td>1.18098</td>\n",
       "      <td>1.17990</td>\n",
       "      <td>1.18098</td>\n",
       "      <td>775.0</td>\n",
       "    </tr>\n",
       "    <tr>\n",
       "      <th>2</th>\n",
       "      <td>2017-11-15 10:01:52.936</td>\n",
       "      <td>1.18098</td>\n",
       "      <td>1.18179</td>\n",
       "      <td>1.18035</td>\n",
       "      <td>1.18179</td>\n",
       "      <td>4685.0</td>\n",
       "    </tr>\n",
       "    <tr>\n",
       "      <th>3</th>\n",
       "      <td>2017-11-15 10:08:27.340</td>\n",
       "      <td>1.18179</td>\n",
       "      <td>1.18260</td>\n",
       "      <td>1.18162</td>\n",
       "      <td>1.18260</td>\n",
       "      <td>793.0</td>\n",
       "    </tr>\n",
       "    <tr>\n",
       "      <th>4</th>\n",
       "      <td>2017-11-15 10:50:31.737</td>\n",
       "      <td>1.18260</td>\n",
       "      <td>1.18341</td>\n",
       "      <td>1.18121</td>\n",
       "      <td>1.18341</td>\n",
       "      <td>3910.0</td>\n",
       "    </tr>\n",
       "  </tbody>\n",
       "</table>\n",
       "</div>"
      ],
      "text/plain": [
       "                  datetime     open     high      low    close   volume\n",
       "0  2017-11-15 09:01:29.782  1.17936  1.18017  1.17846  1.18017  12545.0\n",
       "1  2017-11-15 09:09:28.118  1.18017  1.18098  1.17990  1.18098    775.0\n",
       "2  2017-11-15 10:01:52.936  1.18098  1.18179  1.18035  1.18179   4685.0\n",
       "3  2017-11-15 10:08:27.340  1.18179  1.18260  1.18162  1.18260    793.0\n",
       "4  2017-11-15 10:50:31.737  1.18260  1.18341  1.18121  1.18341   3910.0"
      ]
     },
     "execution_count": 11,
     "metadata": {},
     "output_type": "execute_result"
    }
   ],
   "source": [
    "renko_full_data = pd.read_csv(f\"{filepath}{anytrading_filepath}renko_full_data_81_initial.csv\")\n",
    "renko_full_data.head()"
   ]
  },
  {
   "cell_type": "code",
   "execution_count": 14,
   "metadata": {},
   "outputs": [
    {
     "data": {
      "text/html": [
       "<div>\n",
       "<style scoped>\n",
       "    .dataframe tbody tr th:only-of-type {\n",
       "        vertical-align: middle;\n",
       "    }\n",
       "\n",
       "    .dataframe tbody tr th {\n",
       "        vertical-align: top;\n",
       "    }\n",
       "\n",
       "    .dataframe thead th {\n",
       "        text-align: right;\n",
       "    }\n",
       "</style>\n",
       "<table border=\"1\" class=\"dataframe\">\n",
       "  <thead>\n",
       "    <tr style=\"text-align: right;\">\n",
       "      <th></th>\n",
       "      <th>datetime</th>\n",
       "      <th>close</th>\n",
       "    </tr>\n",
       "  </thead>\n",
       "  <tbody>\n",
       "    <tr>\n",
       "      <th>21552</th>\n",
       "      <td>2024-03-29 15:40:11.502</td>\n",
       "      <td>1.07973</td>\n",
       "    </tr>\n",
       "  </tbody>\n",
       "</table>\n",
       "</div>"
      ],
      "text/plain": [
       "                      datetime    close\n",
       "21552  2024-03-29 15:40:11.502  1.07973"
      ]
     },
     "execution_count": 14,
     "metadata": {},
     "output_type": "execute_result"
    }
   ],
   "source": [
    "renko_full_data = renko_full_data.loc[:, ['datetime', 'close']]\n",
    "# get the last row of the renko full data\n",
    "last_row = pd.DataFrame(renko_full_data.iloc[-1]).T\n",
    "last_row"
   ]
  },
  {
   "cell_type": "code",
   "execution_count": null,
   "metadata": {},
   "outputs": [],
   "source": [
    "\n",
    "df_new = pd.read_csv(f'{filepath}/EURUSD_11_15_20_to_11_15_21.csv')\n",
    "ohlc = prep_data_fx(df_new)\n",
    "# import the renko full data dataframe\n",
    "renko_full_data = pd.read_csv(f\"{filepath}{anytrading_filepath}renko_full_data_81_initial.csv\")\n",
    "renko_full_data = renko_full_data.loc[:, ['datetime', 'close']]\n",
    "# get the last row of the renko full data\n",
    "last_row = pd.DataFrame(renko_full_data.iloc[-1]).T\n",
    "# insert that at the beginning of ohlc\n",
    "ohlc = pd.concat([pd.DataFrame([last_row]), ohlc], ignore_index=True)\n",
    "# find the year of the first date and the year of the last date in ohlc\n",
    "year = ohlc.index[0].year\n",
    "year_end = ohlc.index[-1].year\n",
    "renko_full_data = generate_renko(ohlc, 0.00081, ending=f'_{year}_{year_end}')"
   ]
  }
 ],
 "metadata": {
  "kernelspec": {
   "display_name": "Python 3",
   "language": "python",
   "name": "python3"
  },
  "language_info": {
   "codemirror_mode": {
    "name": "ipython",
    "version": 3
   },
   "file_extension": ".py",
   "mimetype": "text/x-python",
   "name": "python",
   "nbconvert_exporter": "python",
   "pygments_lexer": "ipython3",
   "version": "3.11.4"
  }
 },
 "nbformat": 4,
 "nbformat_minor": 2
}
